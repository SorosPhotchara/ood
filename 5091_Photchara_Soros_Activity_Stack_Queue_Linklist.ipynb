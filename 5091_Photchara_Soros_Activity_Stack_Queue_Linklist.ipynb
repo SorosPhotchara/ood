{
  "nbformat": 4,
  "nbformat_minor": 0,
  "metadata": {
    "colab": {
      "provenance": [],
      "include_colab_link": true
    },
    "kernelspec": {
      "name": "python3",
      "display_name": "Python 3"
    },
    "language_info": {
      "name": "python"
    }
  },
  "cells": [
    {
      "cell_type": "markdown",
      "metadata": {
        "id": "view-in-github",
        "colab_type": "text"
      },
      "source": [
        "<a href=\"https://colab.research.google.com/github/SorosPhotchara/ood/blob/main/5091_Photchara_Soros_Activity_Stack_Queue_Linklist.ipynb\" target=\"_parent\"><img src=\"https://colab.research.google.com/assets/colab-badge.svg\" alt=\"Open In Colab\"/></a>"
      ]
    },
    {
      "cell_type": "markdown",
      "source": [
        "Activity 1 : ให้นักศึกษาเขียนโปรแกรม\n",
        "\n",
        "1. สร้าง Class Stack แล้ว\n",
        "2. Push เก็บข้อมูล ABCDEF\n",
        "3. แล้ว Pop ออกจน empty"
      ],
      "metadata": {
        "id": "0199h7KweLKa"
      }
    },
    {
      "cell_type": "code",
      "execution_count": 4,
      "metadata": {
        "id": "5gfWDWLqeGIr",
        "colab": {
          "base_uri": "https://localhost:8080/"
        },
        "outputId": "3d7559ba-eb03-4f6f-f20b-60760c82d260"
      },
      "outputs": [
        {
          "output_type": "stream",
          "name": "stdout",
          "text": [
            "PUSH :  ['A']\n",
            "PUSH :  ['A', 'B']\n",
            "PUSH :  ['A', 'B', 'C']\n",
            "PUSH :  ['A', 'B', 'C', 'D']\n",
            "PUSH :  ['A', 'B', 'C', 'D', 'E']\n",
            "PUSH :  ['A', 'B', 'C', 'D', 'E', 'F']\n",
            "POP :  ['A', 'B', 'C', 'D', 'E']\n",
            "POP :  ['A', 'B', 'C', 'D']\n",
            "POP :  ['A', 'B', 'C']\n",
            "POP :  ['A', 'B']\n",
            "POP :  ['A']\n",
            "POP :  []\n"
          ]
        }
      ],
      "source": [
        "class Stack:\n",
        "\n",
        "  def __init__(self, list=None):\n",
        "    if list== None:\n",
        "      self.items=[]\n",
        "    else:\n",
        "      self.items=list\n",
        "\n",
        "  def push(self, item):\n",
        "    self.items.append(item)\n",
        "\n",
        "  def pop(self):\n",
        "    return self.items.pop()\n",
        "\n",
        "  # def peek(self):\n",
        "  #   return self.items[-1]\n",
        "\n",
        "  def isEmpty(self):\n",
        "    return self.items == []\n",
        "\n",
        "s = Stack()\n",
        "for i in [\"A\", \"B\", \"C\", \"D\", \"E\", \"F\"]:\n",
        "  s.push(i)\n",
        "  print(\"PUSH : \",s.items)\n",
        "\n",
        "for i in range(len(s.items)):\n",
        "  s.pop()\n",
        "  print(\"POP : \", s.items)"
      ]
    },
    {
      "cell_type": "markdown",
      "source": [
        "Activity 2 : ให้นักศึกษาเขียนโปรแกรม\n",
        "\n",
        "1. สร้าง Queue แล้ว\n",
        "2. เก็บข้อมูล ABCDEF\n",
        "3. หลังจากนั้นให้แสดงผล ขนาดของข้อมูลที่เก็บใน Queue"
      ],
      "metadata": {
        "id": "PPhET_uxeeqQ"
      }
    },
    {
      "cell_type": "code",
      "source": [],
      "metadata": {
        "id": "JdJHyvmmeoD8"
      },
      "execution_count": null,
      "outputs": []
    },
    {
      "cell_type": "markdown",
      "source": [
        "Activity 3 : ให้นักศึกษาเขียนโปรแกรม\n",
        "\n",
        "1. สร้าง Link List แล้ว\n",
        "2. เก็บข้อมูล A,B,C,D,E,F แต่ละตัวอักษรอยู่ใน 1 node\n",
        "3. หลังจากนั้นให้แทรกข้อมูล X,Y,Z ระหว่าง C,D"
      ],
      "metadata": {
        "id": "cABzyiTrepKO"
      }
    },
    {
      "cell_type": "code",
      "source": [],
      "metadata": {
        "id": "dJXWep-ge4Ar"
      },
      "execution_count": null,
      "outputs": []
    }
  ]
}