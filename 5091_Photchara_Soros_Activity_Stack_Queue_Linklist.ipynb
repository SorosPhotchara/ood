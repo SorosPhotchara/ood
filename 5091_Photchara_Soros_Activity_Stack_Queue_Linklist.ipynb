{
  "nbformat": 4,
  "nbformat_minor": 0,
  "metadata": {
    "colab": {
      "provenance": [],
      "include_colab_link": true
    },
    "kernelspec": {
      "name": "python3",
      "display_name": "Python 3"
    },
    "language_info": {
      "name": "python"
    }
  },
  "cells": [
    {
      "cell_type": "markdown",
      "metadata": {
        "id": "view-in-github",
        "colab_type": "text"
      },
      "source": [
        "<a href=\"https://colab.research.google.com/github/SorosPhotchara/ood/blob/main/5091_Photchara_Soros_Activity_Stack_Queue_Linklist.ipynb\" target=\"_parent\"><img src=\"https://colab.research.google.com/assets/colab-badge.svg\" alt=\"Open In Colab\"/></a>"
      ]
    },
    {
      "cell_type": "markdown",
      "source": [
        "Activity 1 : ให้นักศึกษาเขียนโปรแกรม\n",
        "\n",
        "1. สร้าง Class Stack แล้ว\n",
        "2. Push เก็บข้อมูล ABCDEF\n",
        "3. แล้ว Pop ออกจน empty"
      ],
      "metadata": {
        "id": "0199h7KweLKa"
      }
    },
    {
      "cell_type": "code",
      "execution_count": null,
      "metadata": {
        "id": "5gfWDWLqeGIr"
      },
      "outputs": [],
      "source": [
        "class Stack:\n",
        "\n",
        "  def __init__(self, list=None):\n",
        "    if list== None:\n",
        "      self.items=[]\n",
        "    else:\n",
        "      self.items=list\n",
        "\n",
        "  def push(self, item):\n",
        "    self.items.append(item)\n",
        "\n",
        "  def pop(self):\n",
        "    # if self.isEmpty():\n",
        "    #   return \"Empty\"\n",
        "    return self.items.pop()\n",
        "\n",
        "  # def peek(self):\n",
        "  #   return self.items[-1]\n",
        "\n",
        "  def isEmpty(self):\n",
        "    return self.items == []\n",
        "\n",
        "s = Stack()\n",
        "for i in [\"A\", \"B\", \"C\", \"D\", \"E\", \"F\"]:\n",
        "  s.push(i)\n",
        "  print(\"PUSH : \",s.items)\n",
        "\n",
        "for i in range(len(s.items)):\n",
        "  s.pop()\n",
        "  print(\"POP : \", s.items)"
      ]
    },
    {
      "cell_type": "markdown",
      "source": [
        "Activity 2 : ให้นักศึกษาเขียนโปรแกรม\n",
        "\n",
        "1. สร้าง Queue แล้ว\n",
        "2. เก็บข้อมูล ABCDEF\n",
        "3. หลังจากนั้นให้แสดงผล ขนาดของข้อมูลที่เก็บใน Queue"
      ],
      "metadata": {
        "id": "PPhET_uxeeqQ"
      }
    },
    {
      "cell_type": "code",
      "source": [
        "class Queue:\n",
        "\n",
        "  def __init__(self, list=None):\n",
        "    if list== None:\n",
        "      self.queue=[]\n",
        "    else:\n",
        "      self.queue=list\n",
        "\n",
        "  def enqueue(self, item):\n",
        "    self.queue.append(item)\n",
        "\n",
        "  def dequeue(self):\n",
        "    x = self.queue[0]\n",
        "    self.queue.pop(0)\n",
        "    return x\n",
        "\n",
        "  def lenght(self):\n",
        "    return len(self.queue)\n",
        "\n",
        "q = Queue()\n",
        "for i in [\"A\", \"B\", \"C\", \"D\", \"E\", \"F\"]:\n",
        "  q.enqueue(i)\n",
        "  print(\"EN : \",q.queue)\n",
        "  print(\"Lenght : \", q.lenght())\n",
        "for i in range(q.lenght()):\n",
        "  print(f\"DE : {q.dequeue()} <--- {q.queue}\")\n",
        "  print(\"Lenght : \", q.lenght())"
      ],
      "metadata": {
        "id": "JdJHyvmmeoD8"
      },
      "execution_count": null,
      "outputs": []
    },
    {
      "cell_type": "markdown",
      "source": [
        "Activity 3 : ให้นักศึกษาเขียนโปรแกรม\n",
        "\n",
        "1. สร้าง Link List แล้ว\n",
        "2. เก็บข้อมูล A,B,C,D,E,F แต่ละตัวอักษรอยู่ใน 1 node\n",
        "3. หลังจากนั้นให้แทรกข้อมูล X,Y,Z ระหว่าง C,D"
      ],
      "metadata": {
        "id": "cABzyiTrepKO"
      }
    },
    {
      "cell_type": "markdown",
      "source": [
        "NOTE :\n",
        "1.insert after, delete after\n",
        "2.delete head\n",
        "3.insert to be head"
      ],
      "metadata": {
        "id": "Hwb-j4PkcuIS"
      }
    },
    {
      "cell_type": "code",
      "source": [
        "class Node:\n",
        "\n",
        "  def __init__(self, data=None, next=None):\n",
        "    self.data = data\n",
        "    self.next = next\n",
        "\n",
        "  def __str__(self):\n",
        "    return str (self.data)\n",
        "\n",
        "class LinkedList:\n",
        "  def __init__(self):\n",
        "    dummy_head = Node(None,None)\n",
        "    self.head = dummy_head\n",
        "\n",
        "  def append(self, data):\n",
        "    p = Node(data)\n",
        "    current = self.head\n",
        "    while current.next != None :\n",
        "      current = current.next\n",
        "    current.next = p\n",
        "\n",
        "  def insert_after(self, data, index=None):\n",
        "    if index is None:\n",
        "      current = self.head\n",
        "    else:\n",
        "      current = self.head.next\n",
        "\n",
        "    while current.data != index and current.data != None:\n",
        "      current = current.next\n",
        "    old = current.next\n",
        "    new = Node(data)\n",
        "    current.next = new\n",
        "    new.next = old\n",
        "\n",
        "  def delete_after(self, index=None):\n",
        "    if index is None:\n",
        "        current = self.head\n",
        "    else:\n",
        "        current = self.head.next\n",
        "        while current and current.data != index:\n",
        "            current = current.next\n",
        "\n",
        "    if current is None:\n",
        "        print(f\"'{index}' not found.\")\n",
        "        return\n",
        "\n",
        "    if current.next is None:\n",
        "        print(f\"No node exists after '{current.data}'\")\n",
        "        return\n",
        "\n",
        "    target = current.next\n",
        "    current.next = target.next\n",
        "\n",
        "\n",
        "  def display(self):\n",
        "    current = self.head.next\n",
        "    while current:\n",
        "      print(current.data, end=\" -> \" if current.next else \"\\n\")\n",
        "      current = current.next\n",
        "\n",
        "ll = LinkedList()\n",
        "for i in [\"A\", \"B\", \"C\", \"D\", \"E\", \"F\"]:\n",
        "  ll.append(i)\n",
        "print(\"Normal LinkedList : \",end=\"\")\n",
        "ll.display()\n",
        "print(\"Inser After (X,Y,Z) : \",end=\"\")\n",
        "ll.insert_after('X','C')\n",
        "ll.insert_after('Y','X')\n",
        "ll.insert_after('Z','Y')\n",
        "ll.display()\n",
        "ll.insert_after('H')\n",
        "print(\"Inser Head (H) : \",end=\"\")\n",
        "ll.display()\n",
        "ll.delete_after('A')\n",
        "print(\"Delete After (B) : \",end=\"\")\n",
        "ll.display()\n",
        "ll.delete_after()\n",
        "print(\"Delete Head : \",end=\"\")\n",
        "ll.display()"
      ],
      "metadata": {
        "id": "dJXWep-ge4Ar",
        "colab": {
          "base_uri": "https://localhost:8080/"
        },
        "outputId": "e8184af7-48ad-4fc0-cf75-2ad8047314fa"
      },
      "execution_count": 1,
      "outputs": [
        {
          "output_type": "stream",
          "name": "stdout",
          "text": [
            "Normal LinkedList : A -> B -> C -> D -> E -> F\n",
            "Inser After (X,Y,Z) : A -> B -> C -> X -> Y -> Z -> D -> E -> F\n",
            "Inser Head (H) : H -> A -> B -> C -> X -> Y -> Z -> D -> E -> F\n",
            "Delete After (B) : H -> A -> C -> X -> Y -> Z -> D -> E -> F\n",
            "Delete Head : A -> C -> X -> Y -> Z -> D -> E -> F\n"
          ]
        }
      ]
    }
  ]
}