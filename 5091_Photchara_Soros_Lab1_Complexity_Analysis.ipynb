{
  "nbformat": 4,
  "nbformat_minor": 0,
  "metadata": {
    "colab": {
      "provenance": [],
      "include_colab_link": true
    },
    "kernelspec": {
      "name": "python3",
      "display_name": "Python 3"
    },
    "language_info": {
      "name": "python"
    }
  },
  "cells": [
    {
      "cell_type": "markdown",
      "metadata": {
        "id": "view-in-github",
        "colab_type": "text"
      },
      "source": [
        "<a href=\"https://colab.research.google.com/github/SorosPhotchara/ood/blob/main/5091_Photchara_Soros_Lab1_Complexity_Analysis.ipynb\" target=\"_parent\"><img src=\"https://colab.research.google.com/assets/colab-badge.svg\" alt=\"Open In Colab\"/></a>"
      ]
    },
    {
      "cell_type": "markdown",
      "source": [
        "**การทดลองที่ 3 : Algorithm Analysis**\n",
        "\n",
        "**จุดประสงค์ **\n",
        "1.\tสามารถประเมิน Complexity ในโปรแกรมต่างๆ ได้\n",
        "\n",
        "**ตอนที่ 1 : Time Calculation**\n",
        "1.\tให้นักศึกษาค้นหา Source Code ใน internet ที่มีการทำงานเดียวกัน 2 โปรแกรม แล้วใช้ฟังก์ชั่น time() เพื่อตรวจสอบกว่าการทำงานของทั้งสองโปรแกรม มีการใช้เวลาที่แตกต่างกันอย่างไรบ้าง\n"
      ],
      "metadata": {
        "id": "PJ46GB6gYBw6"
      }
    },
    {
      "cell_type": "code",
      "execution_count": null,
      "metadata": {
        "colab": {
          "base_uri": "https://localhost:8080/"
        },
        "id": "S0ZP6FpTX76P",
        "outputId": "b6ce7b32-3744-4c2d-acda-9b67c8f3ce79"
      },
      "outputs": [
        {
          "output_type": "stream",
          "name": "stdout",
          "text": [
            "Execution time: 2.0003561973571777 seconds\n"
          ]
        }
      ],
      "source": [
        "import time\n",
        "\n",
        "st = time.time()\n",
        "## source code to measure time use\n",
        "## first program\n",
        "time.sleep(2)\n",
        "##\n",
        "et = time.time()\n",
        "elapsed_time = et - st\n",
        "print('Execution time:', elapsed_time, 'seconds')\n"
      ]
    },
    {
      "cell_type": "code",
      "source": [
        "import time\n",
        "\n",
        "st = time.time()\n",
        "## source code to measure time use\n",
        "## second program\n",
        "time.sleep(2)\n",
        "##\n",
        "et = time.time()\n",
        "elapsed_time = et - st\n",
        "print('Execution time:', elapsed_time, 'seconds')\n"
      ],
      "metadata": {
        "id": "Hi41ZkZ8a-yr",
        "colab": {
          "base_uri": "https://localhost:8080/"
        },
        "outputId": "20ce5cee-751e-4d10-cdb6-0d2eaa52649c"
      },
      "execution_count": null,
      "outputs": [
        {
          "output_type": "stream",
          "name": "stdout",
          "text": [
            "Execution time: 2.000354290008545 seconds\n"
          ]
        }
      ]
    },
    {
      "cell_type": "markdown",
      "source": [
        "2. ให้นักศึกษาทดสอบการทำงานของ ฟังก์ชั่น NearestNeighbors ของ sklearn.neighbors เมื่อมีการเรียกใช้งานเพื่อหา nearest point ของข้อมูลจุดทดสอบจำนวน 1000 จุด ในจุดอ้างอิงทั้งหมด 1,000,000 จุด ใน 2 วิธีการคือ\n",
        "\n",
        "\n",
        "\n",
        "1. การสร้างลูปเพื่อป้อนข้อมูลทดสอบทีละจุด จนครบ 1000 จุด\n",
        "\n",
        "กับ\n",
        "\n",
        "2. การสร้าง list ของจุดทดสอบ แล้วป้อนค่าดังกล่าวให้ library ทำงาน\n",
        "\n",
        " แล้วตอบคำถามว่าความเร็วในการทำงานของโปรแกรมส่วนที่ remark ไว้  **เขียนโปรแกรมแบบไหนทำงานได้เร็วกว่า และเร็วกว่ากันกี่เท่า**"
      ],
      "metadata": {
        "id": "TrBDTeYhYBJ8"
      }
    },
    {
      "cell_type": "code",
      "source": [
        "# โปรแกรมที่ 1\n",
        "import numpy as np\n",
        "from sklearn.neighbors import NearestNeighbors\n",
        "import random\n",
        "import time\n",
        "\n",
        "start = time.time()\n",
        "r = lambda: random.randint(0,10000)\n",
        "samples = [[r(),r(),r()] for i in range(1000000)]\n",
        "testdat = [[r(),r(),r()] for i in range(1000)]\n",
        "neigh = NearestNeighbors(n_neighbors=1)\n",
        "neigh.fit(samples)\n",
        "end = time.time()\n",
        "total_time = end - start\n",
        "print(total_time)\n",
        "\n",
        "## detect1 = neigh.kneighbors(testdat)\n"
      ],
      "metadata": {
        "id": "IFwSbZsiYyal",
        "colab": {
          "base_uri": "https://localhost:8080/"
        },
        "outputId": "ed208c67-8f18-45ec-9e5d-d63e450d3782"
      },
      "execution_count": null,
      "outputs": [
        {
          "output_type": "stream",
          "name": "stdout",
          "text": [
            "5.217129945755005\n"
          ]
        }
      ]
    },
    {
      "cell_type": "code",
      "source": [
        "#โปรแกรมที่ 2\n",
        "import numpy as np\n",
        "from sklearn.neighbors import NearestNeighbors\n",
        "import random\n",
        "import time\n",
        "start = time.time()\n",
        "r = lambda: random.randint(0,10000)\n",
        "samples = [[r(),r(),r()] for i in range(1000000)]\n",
        "testdat = [[r(),r(),r()] for i in range(1000)]\n",
        "neigh = NearestNeighbors(n_neighbors=1)\n",
        "neigh.fit(samples)\n",
        "end = time.time()\n",
        "total_time = end - start\n",
        "print(total_time)\n",
        "\n",
        "## detect2=[]\n",
        "## for i in testdat:\n",
        "##   detect2 += neigh.kneighbors([i])\n"
      ],
      "metadata": {
        "id": "EkfKgw-rY8EK",
        "colab": {
          "base_uri": "https://localhost:8080/"
        },
        "outputId": "a28d8d94-b1d6-40ec-9400-5b8554e2184a"
      },
      "execution_count": null,
      "outputs": [
        {
          "output_type": "stream",
          "name": "stdout",
          "text": [
            "3.713458776473999\n"
          ]
        }
      ]
    },
    {
      "cell_type": "markdown",
      "source": [
        "**เขียนโปรแกรมแบบไหนทำงานได้เร็วกว่า และเร็วกว่ากันกี่เท่า**\n",
        "\n",
        "คำตอบ = ?"
      ],
      "metadata": {
        "id": "a1x5SYoyZLUe"
      }
    },
    {
      "cell_type": "markdown",
      "source": [
        "**ตอนที่ 2 : จงหา Big-O ของโปรแกรมต่อไปนี้**\n",
        "\n",
        "**โปรแกรมที่ 1 :**\n",
        "\n",
        "\n"
      ],
      "metadata": {
        "id": "AuST_WKaZVpi"
      }
    },
    {
      "cell_type": "code",
      "source": [
        "n = input(\"input number : \")\n",
        "\n",
        "n = int(n)\n",
        "count = 0\n",
        "for i in range(1,n,2):\n",
        "  print(i)\n",
        "  count += 1\n",
        "print(count)"
      ],
      "metadata": {
        "colab": {
          "base_uri": "https://localhost:8080/"
        },
        "id": "mQIugq3eG26L",
        "outputId": "a622da02-0c18-4ae5-88db-c55cf5af054a"
      },
      "execution_count": 28,
      "outputs": [
        {
          "output_type": "stream",
          "name": "stdout",
          "text": [
            "input number : 50\n",
            "1\n",
            "3\n",
            "5\n",
            "7\n",
            "9\n",
            "11\n",
            "13\n",
            "15\n",
            "17\n",
            "19\n",
            "21\n",
            "23\n",
            "25\n",
            "27\n",
            "29\n",
            "31\n",
            "33\n",
            "35\n",
            "37\n",
            "39\n",
            "41\n",
            "43\n",
            "45\n",
            "47\n",
            "49\n",
            "25\n"
          ]
        }
      ]
    },
    {
      "cell_type": "markdown",
      "source": [
        "***Big-O = O(n/2) = O(n)***"
      ],
      "metadata": {
        "id": "sPncVPuMcK9_"
      }
    },
    {
      "cell_type": "markdown",
      "source": [
        "โปรแกรมที่ 2 :\n",
        "\n",
        "\n",
        "\n"
      ],
      "metadata": {
        "id": "fhT7JHIEZp2S"
      }
    },
    {
      "cell_type": "code",
      "source": [
        "n = input(\"input number : \")\n",
        "n = int(n)\n",
        "count = 0\n",
        "for x in range(1,n):\n",
        "  count += 1\n",
        "  for y in range(n - x):\n",
        "    count += 1\n",
        "    print (\" \",end=\"\")\n",
        "  for y in range(1,x + 1):\n",
        "    count += 1\n",
        "    print(y,end=\"\")\n",
        "  for y in range(2,x + 1):\n",
        "    count += 1\n",
        "    print(x - y + 1,end=\"\")\n",
        "  print()\n",
        "print(count)\n",
        "\n"
      ],
      "metadata": {
        "id": "z-FkMSCIaJXh",
        "colab": {
          "base_uri": "https://localhost:8080/"
        },
        "outputId": "18e33445-4b61-4091-a546-1977ee81c566"
      },
      "execution_count": 36,
      "outputs": [
        {
          "output_type": "stream",
          "name": "stdout",
          "text": [
            "input number : 10\n",
            "         1\n",
            "        121\n",
            "       12321\n",
            "      1234321\n",
            "     123454321\n",
            "    12345654321\n",
            "   1234567654321\n",
            "  123456787654321\n",
            " 12345678987654321\n",
            "135\n"
          ]
        }
      ]
    },
    {
      "cell_type": "markdown",
      "source": [
        "***Big-O = ?***"
      ],
      "metadata": {
        "id": "WGVvp3PAcRCS"
      }
    },
    {
      "cell_type": "markdown",
      "source": [
        "\n",
        "โปรแกรมที่ 3 :\n"
      ],
      "metadata": {
        "id": "QYIXI_npZstA"
      }
    },
    {
      "cell_type": "code",
      "source": [
        "n = input(\"input number : \")\n",
        "n = int(n)\n",
        "i=1\n",
        "while i<n:\n",
        "  print(i)\n",
        "  i=2*i\n",
        "\n"
      ],
      "metadata": {
        "id": "RFdF_LgnaNuz",
        "colab": {
          "base_uri": "https://localhost:8080/"
        },
        "outputId": "2324fde4-8c32-4a24-d9a7-6e6edd29b7bf"
      },
      "execution_count": 26,
      "outputs": [
        {
          "output_type": "stream",
          "name": "stdout",
          "text": [
            "input number : 100\n",
            "1\n",
            "2\n",
            "4\n",
            "8\n",
            "16\n",
            "32\n",
            "64\n"
          ]
        }
      ]
    },
    {
      "cell_type": "markdown",
      "source": [
        "**Big-O = O(log(n))**"
      ],
      "metadata": {
        "id": "Cb0TY9UncUGU"
      }
    },
    {
      "cell_type": "markdown",
      "source": [
        "**ตอนที่ 3 : เขียนโปรแกรมค้นหาข้อมูลให้มี Big-O ตามที่กำหนด**\n",
        "\n",
        "\n",
        "1. กำหนดให้ตัวแปร data เป็นค่า list ของค่าสุ่ม แล้วให้นักศึกษาเขียนโปรแกรมเรียงตัวเลขใน rnddat จากน้อยไปมากโดยไม่ใช้คำสั่ง sort() โดยให้การทำงานของโปรแกรมนี้มีค่า Big-O เป็น O(n^2)"
      ],
      "metadata": {
        "id": "NEmcToopaZ9f"
      }
    },
    {
      "cell_type": "code",
      "source": [
        "import random\n",
        "rnddat = [random.randint(1,1000) for i in range(0,1000000)]\n",
        "new_lst = []\n",
        "\n",
        "for value in rnddat:\n",
        "    for i, j in enumerate(new_lst):\n",
        "        if value < j:\n",
        "            new_lst.insert(i, value)\n",
        "            break\n",
        "    else:\n",
        "        new_lst.append(value)\n",
        "\n",
        "\n",
        "print(new_lst)"
      ],
      "metadata": {
        "id": "detnxyKBabi7"
      },
      "execution_count": null,
      "outputs": []
    },
    {
      "cell_type": "markdown",
      "source": [
        "2. กำหนดให้ตัวแปร data มีค่าเป็น list ของตัวเลข 1-1,000,000 แล้วให้นักศึกษาเขียนโปรแกรมรับ input เป็นตัวเลข 1 ตัวแล้วทำการค้นหาว่ามีตัวเลขดังกล่าวอยู่ที่ตำแหน่งใด โดยให้การทำงานของโปรแกรมนี้มีค่า Big-O เป็น O(log n)"
      ],
      "metadata": {
        "id": "ZQ2mQf6gaequ"
      }
    },
    {
      "cell_type": "code",
      "source": [
        "import random\n",
        "def check(a):\n",
        "  if a > len(dat) or a <=0:\n",
        "    return \"out of range\"\n",
        "  else:\n",
        "    return dat.index(a)\n",
        "dat = list(range(1,1000001))\n",
        "# print(dat)\n",
        "target = int(input(\"search : \"))\n",
        "print(check(target))\n"
      ],
      "metadata": {
        "id": "L74Umgo_asvD",
        "colab": {
          "base_uri": "https://localhost:8080/"
        },
        "outputId": "24c1d7f0-37ad-44eb-f540-bb51d82e72ed"
      },
      "execution_count": 57,
      "outputs": [
        {
          "output_type": "stream",
          "name": "stdout",
          "text": [
            "search : 500\n",
            "499\n"
          ]
        }
      ]
    }
  ]
}