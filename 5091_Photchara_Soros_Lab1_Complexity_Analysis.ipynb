{
  "nbformat": 4,
  "nbformat_minor": 0,
  "metadata": {
    "colab": {
      "provenance": [],
      "include_colab_link": true
    },
    "kernelspec": {
      "name": "python3",
      "display_name": "Python 3"
    },
    "language_info": {
      "name": "python"
    }
  },
  "cells": [
    {
      "cell_type": "markdown",
      "metadata": {
        "id": "view-in-github",
        "colab_type": "text"
      },
      "source": [
        "<a href=\"https://colab.research.google.com/github/SorosPhotchara/ood/blob/main/5091_Photchara_Soros_Lab1_Complexity_Analysis.ipynb\" target=\"_parent\"><img src=\"https://colab.research.google.com/assets/colab-badge.svg\" alt=\"Open In Colab\"/></a>"
      ]
    },
    {
      "cell_type": "markdown",
      "source": [
        "**การทดลองที่ 3 : Algorithm Analysis**\n",
        "\n",
        "**จุดประสงค์ **\n",
        "1.\tสามารถประเมิน Complexity ในโปรแกรมต่างๆ ได้\n",
        "\n",
        "**ตอนที่ 1 : Time Calculation**\n",
        "1.\tให้นักศึกษาค้นหา Source Code ใน internet ที่มีการทำงานเดียวกัน 2 โปรแกรม แล้วใช้ฟังก์ชั่น time() เพื่อตรวจสอบกว่าการทำงานของทั้งสองโปรแกรม มีการใช้เวลาที่แตกต่างกันอย่างไรบ้าง\n"
      ],
      "metadata": {
        "id": "PJ46GB6gYBw6"
      }
    },
    {
      "cell_type": "code",
      "execution_count": 3,
      "metadata": {
        "colab": {
          "base_uri": "https://localhost:8080/"
        },
        "id": "S0ZP6FpTX76P",
        "outputId": "a07191de-ebe2-4b32-f119-c08d780f9d58"
      },
      "outputs": [
        {
          "output_type": "stream",
          "name": "stdout",
          "text": [
            "Naive method found 78498 primes in 3.8874 seconds\n"
          ]
        }
      ],
      "source": [
        "import time\n",
        "\n",
        "def is_prime(n):\n",
        "    if n < 2:\n",
        "        return False\n",
        "    for i in range(2, int(n**0.5)+1):\n",
        "        if n % i == 0:\n",
        "            return False\n",
        "    return True\n",
        "\n",
        "def primes_naive(limit):\n",
        "    primes = []\n",
        "    for num in range(2, limit + 1):\n",
        "        if is_prime(num):\n",
        "            primes.append(num)\n",
        "    return primes\n",
        "\n",
        "start = time.time()\n",
        "primes1 = primes_naive(1000000)\n",
        "end = time.time()\n",
        "print(f\"Naive method found {len(primes1)} primes in {end - start:.4f} seconds\")\n",
        "\n"
      ]
    },
    {
      "cell_type": "code",
      "source": [
        "import time\n",
        "\n",
        "def sieve(limit):\n",
        "    sieve = [True] * (limit + 1)\n",
        "    sieve[0:2] = [False, False]\n",
        "\n",
        "    for num in range(2, int(limit**0.5) + 1):\n",
        "        if sieve[num]:\n",
        "            for multiple in range(num*num, limit+1, num):\n",
        "                sieve[multiple] = False\n",
        "\n",
        "    primes = [i for i, is_prime in enumerate(sieve) if is_prime]\n",
        "    return primes\n",
        "\n",
        "start = time.time()\n",
        "primes2 = sieve(1000000)\n",
        "end = time.time()\n",
        "print(f\"Sieve method found {len(primes2)} primes in {end - start:.4f} seconds\")\n",
        "\n"
      ],
      "metadata": {
        "id": "Hi41ZkZ8a-yr",
        "colab": {
          "base_uri": "https://localhost:8080/"
        },
        "outputId": "fff0269f-801e-4874-9711-07b4b5c50ed7"
      },
      "execution_count": 4,
      "outputs": [
        {
          "output_type": "stream",
          "name": "stdout",
          "text": [
            "Sieve method found 78498 primes in 0.2579 seconds\n"
          ]
        }
      ]
    },
    {
      "cell_type": "markdown",
      "source": [
        "2. ให้นักศึกษาทดสอบการทำงานของ ฟังก์ชั่น NearestNeighbors ของ sklearn.neighbors เมื่อมีการเรียกใช้งานเพื่อหา nearest point ของข้อมูลจุดทดสอบจำนวน 1000 จุด ในจุดอ้างอิงทั้งหมด 1,000,000 จุด ใน 2 วิธีการคือ\n",
        "\n",
        "\n",
        "\n",
        "1. การสร้างลูปเพื่อป้อนข้อมูลทดสอบทีละจุด จนครบ 1000 จุด\n",
        "\n",
        "กับ\n",
        "\n",
        "2. การสร้าง list ของจุดทดสอบ แล้วป้อนค่าดังกล่าวให้ library ทำงาน\n",
        "\n",
        " แล้วตอบคำถามว่าความเร็วในการทำงานของโปรแกรมส่วนที่ remark ไว้  **เขียนโปรแกรมแบบไหนทำงานได้เร็วกว่า และเร็วกว่ากันกี่เท่า**"
      ],
      "metadata": {
        "id": "TrBDTeYhYBJ8"
      }
    },
    {
      "cell_type": "code",
      "source": [
        "# โปรแกรมที่ 1\n",
        "import numpy as np\n",
        "from sklearn.neighbors import NearestNeighbors\n",
        "import random\n",
        "import time\n",
        "\n",
        "\n",
        "r = lambda: random.randint(0,10000)\n",
        "samples = [[r(),r(),r()] for i in range(1000000)]\n",
        "testdat = [[r(),r(),r()] for i in range(1000)]\n",
        "neigh = NearestNeighbors(n_neighbors=1)\n",
        "neigh.fit(samples)\n",
        "\n",
        "\n",
        "start = time.time()\n",
        "detect1 = neigh.kneighbors(testdat)\n",
        "# time.sleep(2)\n",
        "end = time.time()\n",
        "total_time = end - start\n",
        "print(total_time)\n"
      ],
      "metadata": {
        "id": "IFwSbZsiYyal",
        "colab": {
          "base_uri": "https://localhost:8080/"
        },
        "outputId": "331eb5e6-1117-4556-e0b0-70e7184efadc"
      },
      "execution_count": 8,
      "outputs": [
        {
          "output_type": "stream",
          "name": "stdout",
          "text": [
            "0.009330034255981445\n"
          ]
        }
      ]
    },
    {
      "cell_type": "code",
      "source": [
        "#โปรแกรมที่ 2\n",
        "import numpy as np\n",
        "from sklearn.neighbors import NearestNeighbors\n",
        "import random\n",
        "import time\n",
        "\n",
        "r = lambda: random.randint(0,10000)\n",
        "samples = [[r(),r(),r()] for i in range(1000000)]\n",
        "testdat = [[r(),r(),r()] for i in range(1000)]\n",
        "neigh = NearestNeighbors(n_neighbors=1)\n",
        "neigh.fit(samples)\n",
        "\n",
        "start = time.time()\n",
        "detect2=[]\n",
        "for i in testdat:\n",
        "  detect2 += neigh.kneighbors([i])\n",
        "# time.sleep(2)\n",
        "end = time.time()\n",
        "total = end-start\n",
        "print(total)\n"
      ],
      "metadata": {
        "id": "EkfKgw-rY8EK",
        "colab": {
          "base_uri": "https://localhost:8080/"
        },
        "outputId": "7251c94e-091b-428d-e3d1-38481067e6e1"
      },
      "execution_count": 7,
      "outputs": [
        {
          "output_type": "stream",
          "name": "stdout",
          "text": [
            "0.5218114852905273\n"
          ]
        }
      ]
    },
    {
      "cell_type": "markdown",
      "source": [
        "**เขียนโปรแกรมแบบไหนทำงานได้เร็วกว่า และเร็วกว่ากันกี่เท่า**\n",
        "\n",
        "คำตอบ = โปรแกรมที่ 1 เร็วกว่า ประมาณ 56 เท่า"
      ],
      "metadata": {
        "id": "a1x5SYoyZLUe"
      }
    },
    {
      "cell_type": "markdown",
      "source": [
        "**ตอนที่ 2 : จงหา Big-O ของโปรแกรมต่อไปนี้**\n",
        "\n",
        "**โปรแกรมที่ 1 :**\n",
        "\n",
        "\n"
      ],
      "metadata": {
        "id": "AuST_WKaZVpi"
      }
    },
    {
      "cell_type": "code",
      "source": [
        "n = input(\"input number : \")\n",
        "\n",
        "n = int(n)\n",
        "# count = 0\n",
        "for i in range(1,n,2):\n",
        "  print(i)\n",
        "#   count += 1\n",
        "# print(count)"
      ],
      "metadata": {
        "id": "mQIugq3eG26L"
      },
      "execution_count": null,
      "outputs": []
    },
    {
      "cell_type": "markdown",
      "source": [
        "***Big-O = O(n/2) = O(n)***"
      ],
      "metadata": {
        "id": "sPncVPuMcK9_"
      }
    },
    {
      "cell_type": "markdown",
      "source": [
        "โปรแกรมที่ 2 :\n",
        "\n",
        "\n",
        "\n"
      ],
      "metadata": {
        "id": "fhT7JHIEZp2S"
      }
    },
    {
      "cell_type": "code",
      "source": [
        "n = input(\"input number : \")\n",
        "n = int(n)\n",
        "count = 0\n",
        "for x in range(1,n):\n",
        "  count += 1\n",
        "  for y in range(n - x):\n",
        "    count += 1\n",
        "    print (\" \",end=\"\")\n",
        "  for y in range(1,x + 1):\n",
        "    count += 1\n",
        "    print(y,end=\"\")\n",
        "  for y in range(2,x + 1):\n",
        "    count += 1\n",
        "    print(x - y + 1,end=\"\")\n",
        "  print()\n",
        "print(count)\n",
        "\n"
      ],
      "metadata": {
        "id": "z-FkMSCIaJXh"
      },
      "execution_count": null,
      "outputs": []
    },
    {
      "cell_type": "markdown",
      "source": [
        "***Big-O = O(n^2)***"
      ],
      "metadata": {
        "id": "WGVvp3PAcRCS"
      }
    },
    {
      "cell_type": "markdown",
      "source": [
        "\n",
        "โปรแกรมที่ 3 :\n"
      ],
      "metadata": {
        "id": "QYIXI_npZstA"
      }
    },
    {
      "cell_type": "code",
      "source": [
        "n = input(\"input number : \")\n",
        "n = int(n)\n",
        "i=1\n",
        "while i<n:\n",
        "  print(i)\n",
        "  i=2*i\n",
        "\n"
      ],
      "metadata": {
        "id": "RFdF_LgnaNuz"
      },
      "execution_count": null,
      "outputs": []
    },
    {
      "cell_type": "markdown",
      "source": [
        "**Big-O = O(log(n))**"
      ],
      "metadata": {
        "id": "Cb0TY9UncUGU"
      }
    },
    {
      "cell_type": "markdown",
      "source": [
        "**ตอนที่ 3 : เขียนโปรแกรมค้นหาข้อมูลให้มี Big-O ตามที่กำหนด**\n",
        "\n",
        "\n",
        "1. กำหนดให้ตัวแปร data เป็นค่า list ของค่าสุ่ม แล้วให้นักศึกษาเขียนโปรแกรมเรียงตัวเลขใน rnddat จากน้อยไปมากโดยไม่ใช้คำสั่ง sort() โดยให้การทำงานของโปรแกรมนี้มีค่า Big-O เป็น O(n^2)"
      ],
      "metadata": {
        "id": "NEmcToopaZ9f"
      }
    },
    {
      "cell_type": "code",
      "source": [
        "import random\n",
        "rnddat = [random.randint(1,1000) for i in range(0,100)]\n",
        "new_lst = []\n",
        "\n",
        "for value in rnddat:\n",
        "    for i, j in enumerate(new_lst):\n",
        "        if value < j:\n",
        "            new_lst.insert(i, value)\n",
        "            break\n",
        "    else:\n",
        "        new_lst.append(value)\n",
        "\n",
        "\n",
        "print(new_lst)"
      ],
      "metadata": {
        "id": "detnxyKBabi7",
        "colab": {
          "base_uri": "https://localhost:8080/"
        },
        "outputId": "1b71fe84-4983-4037-c510-0b39d601f301"
      },
      "execution_count": 9,
      "outputs": [
        {
          "output_type": "stream",
          "name": "stdout",
          "text": [
            "[4, 5, 7, 11, 18, 21, 27, 49, 54, 66, 66, 69, 77, 80, 86, 96, 97, 101, 103, 110, 116, 121, 179, 181, 182, 186, 195, 204, 246, 248, 257, 294, 307, 307, 317, 335, 367, 370, 383, 385, 389, 395, 416, 417, 439, 449, 450, 461, 461, 465, 484, 489, 496, 507, 511, 513, 533, 537, 545, 571, 575, 586, 588, 612, 618, 618, 622, 623, 637, 645, 648, 662, 663, 671, 683, 687, 688, 716, 730, 739, 744, 745, 761, 763, 782, 783, 836, 837, 839, 842, 848, 848, 853, 863, 890, 916, 928, 963, 975, 983]\n"
          ]
        }
      ]
    },
    {
      "cell_type": "markdown",
      "source": [
        "2. กำหนดให้ตัวแปร data มีค่าเป็น list ของตัวเลข 1-1,000,000 แล้วให้นักศึกษาเขียนโปรแกรมรับ input เป็นตัวเลข 1 ตัวแล้วทำการค้นหาว่ามีตัวเลขดังกล่าวอยู่ที่ตำแหน่งใด โดยให้การทำงานของโปรแกรมนี้มีค่า Big-O เป็น O(log n)"
      ],
      "metadata": {
        "id": "ZQ2mQf6gaequ"
      }
    },
    {
      "cell_type": "code",
      "source": [
        "def search(data, target):\n",
        "    left, right = 0, len(data) - 1\n",
        "    while left <= right:\n",
        "        mid = (left + right) // 2\n",
        "        if data[mid] == target:\n",
        "            return mid\n",
        "        elif data[mid] < target:\n",
        "            left = mid + 1\n",
        "        else:\n",
        "            right = mid - 1\n",
        "    return \"not found\"\n",
        "\n",
        "def check(data, target):\n",
        "    if target > 1000000 or target < 0:\n",
        "        return \"out of range\"\n",
        "    else :\n",
        "        print(search(data, target))\n",
        "\n",
        "data = list(range(1, 1000001))\n",
        "target = int(input(\"search: \"))\n",
        "check(data, target)\n"
      ],
      "metadata": {
        "id": "L74Umgo_asvD",
        "colab": {
          "base_uri": "https://localhost:8080/"
        },
        "outputId": "33ccedb9-099f-4798-cc9a-b5d6c23281f1"
      },
      "execution_count": 11,
      "outputs": [
        {
          "output_type": "stream",
          "name": "stdout",
          "text": [
            "search: 1\n",
            "0\n"
          ]
        }
      ]
    }
  ]
}