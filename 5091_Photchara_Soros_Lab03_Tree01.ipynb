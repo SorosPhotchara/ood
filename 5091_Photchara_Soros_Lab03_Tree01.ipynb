{
  "nbformat": 4,
  "nbformat_minor": 0,
  "metadata": {
    "colab": {
      "provenance": [],
      "include_colab_link": true
    },
    "kernelspec": {
      "name": "python3",
      "display_name": "Python 3"
    },
    "language_info": {
      "name": "python"
    }
  },
  "cells": [
    {
      "cell_type": "markdown",
      "metadata": {
        "id": "view-in-github",
        "colab_type": "text"
      },
      "source": [
        "<a href=\"https://colab.research.google.com/github/SorosPhotchara/ood/blob/main/5091_Photchara_Soros_Lab03_Tree01.ipynb\" target=\"_parent\"><img src=\"https://colab.research.google.com/assets/colab-badge.svg\" alt=\"Open In Colab\"/></a>"
      ]
    },
    {
      "cell_type": "markdown",
      "source": [
        "**การทดลองที่ 5 : Tree และ Traversal**\n",
        "**จุดประสงค์**\n",
        "1.\tนักศึกษาสามารถสร้าง Binary Tree , Traverse Tree แบบต่างๆ\n"
      ],
      "metadata": {
        "id": "8KmTEgUzR0WN"
      }
    },
    {
      "cell_type": "markdown",
      "source": [
        "\n",
        "**ตอนที่ 1 : สร้าง Tree**\n",
        "\n",
        "จากโค้ดตัวอย่าง ให้นักศึกษาดำเนินการดังนี้\n",
        "1.\tสร้าง tree จากโค้ดตัวอย่าง โดย insert ข้อมูลดังนี้ 15,3,16,9,23,11,7,5,34,19,2\n",
        "2.\tเรียกใช้งาน PrintTree() เพื่อตรวจสอบข้อมูล\n"
      ],
      "metadata": {
        "id": "419OctRWSG6h"
      }
    },
    {
      "cell_type": "code",
      "execution_count": 3,
      "metadata": {
        "id": "2W4iik1GRaf9",
        "colab": {
          "base_uri": "https://localhost:8080/"
        },
        "outputId": "9e170fe5-7e18-4e02-eeb6-c64c7d519842"
      },
      "outputs": [
        {
          "output_type": "stream",
          "name": "stdout",
          "text": [
            "2\n",
            "3\n",
            "5\n",
            "7\n",
            "9\n",
            "11\n",
            "15\n",
            "16\n",
            "19\n",
            "23\n",
            "34\n"
          ]
        }
      ],
      "source": [
        "class Node:\n",
        "    def __init__(self, data):\n",
        "        self.left = None\n",
        "        self.right = None\n",
        "        self.data = data\n",
        "\n",
        "    def insert(self, data):\n",
        "        if self.data:\n",
        "            if data < self.data:\n",
        "                if self.left is None:\n",
        "                    self.left = Node(data)\n",
        "                else:\n",
        "                    self.left.insert(data)\n",
        "            elif data > self.data:\n",
        "                if self.right is None:\n",
        "                    self.right = Node(data)\n",
        "                else:\n",
        "                    self.right.insert(data)\n",
        "        else:\n",
        "             self.data = data\n",
        "\n",
        "    def PrintTree(self):\n",
        "        if self.left:\n",
        "            self.left.PrintTree()\n",
        "        print( self.data),\n",
        "        if self.right:\n",
        "            self.right.PrintTree()\n",
        "\n",
        "    def inorderTraversal(self, root):\n",
        "      res = []\n",
        "      if root:\n",
        "        res = self.inorderTraversal(root.left)\n",
        "        res.append(root.data)\n",
        "        res = res + self.inorderTraversal(root.right)\n",
        "      return res\n",
        "\n",
        "root = Node(15)\n",
        "for i in [3,16,9,23,11,7,5,34,19,2]:\n",
        "  root.insert(i)\n",
        "root.PrintTree()\n"
      ]
    },
    {
      "cell_type": "markdown",
      "source": [
        "**ตอนที่ 2 : in-order , pre-order , and post-order traverse**\n",
        "\n",
        "ให้นักศึกษาดำเนินการดังนี้\n",
        "1.\tเพิ่มเติม code ตัวอย่างในโปรแกรมของนักศึกษา ซึ่งฟังก์ชั่น inorderTraversal() จะทำการดึงข้อมูลจาก Tree แบบ in-order traversal แล้วส่งผลลัพธ์กลับในรูปแบบ list\n",
        "2.\tเรียกใช้งานฟังก์ชั่นดังกล่าวแล้วแสดงผล list ที่ได้\n",
        "3.\tสร้างฟังก์ชั่น preorderTraversal() และ postorderTraversal() ที่มีการส่ง list ของผลลัพธ์ของการทำ pre-order traversal และ post-order traversal กลับมายังโปรแกรมหลักเช่นเดียวกับ inorderTraversal()\n",
        "4.\tเรียกใช้งานฟังก์ชั่น preorderTraversal() และ postorderTraversal() แล้วแสดงผล list ที่ได้\n"
      ],
      "metadata": {
        "id": "NTCXBzHMSAyB"
      }
    },
    {
      "cell_type": "code",
      "source": [
        "class Node:\n",
        "    def __init__(self, data):\n",
        "        self.left = None\n",
        "        self.right = None\n",
        "        self.data = data\n",
        "\n",
        "    def insert(self, data):\n",
        "        if self.data:\n",
        "            if data < self.data:\n",
        "                if self.left is None:\n",
        "                    self.left = Node(data)\n",
        "                else:\n",
        "                    self.left.insert(data)\n",
        "            elif data > self.data:\n",
        "                if self.right is None:\n",
        "                    self.right = Node(data)\n",
        "                else:\n",
        "                    self.right.insert(data)\n",
        "        else:\n",
        "             self.data = data\n",
        "\n",
        "    def PrintTree(self):\n",
        "        if self.left:\n",
        "            self.left.PrintTree()\n",
        "        print( self.data),\n",
        "        if self.right:\n",
        "            self.right.PrintTree()\n",
        "\n",
        "    def inorderTraversal(self, root):\n",
        "      res = []\n",
        "      if root:\n",
        "        res = self.inorderTraversal(root.left)\n",
        "        res.append(root.data)\n",
        "        res = res + self.inorderTraversal(root.right)\n",
        "      return res\n",
        "\n",
        "    def preorderTraversal(self, root):\n",
        "        res = []\n",
        "        if root:\n",
        "            res.append(root.data)\n",
        "            res += self.preorderTraversal(root.left)\n",
        "            res += self.preorderTraversal(root.right)\n",
        "        return res\n",
        "\n",
        "    def postorderTraversal(self, root):\n",
        "      res = []\n",
        "      if root:\n",
        "        res = self.postorderTraversal(root.left)\n",
        "        res = res + self.postorderTraversal(root.right)\n",
        "        res.append(root.data)\n",
        "      return res\n",
        "\n",
        "root = Node(15)\n",
        "for i in [3,16,9,23,11,7,5,34,19,2]:\n",
        "  root.insert(i)\n",
        "# root.PrintTree()\n",
        "print(\"In-order : \",root.inorderTraversal(root))\n",
        "print(\"Pre-order : \",root.preorderTraversal(root))\n",
        "print(\"Post-order : \",root.postorderTraversal(root))\n"
      ],
      "metadata": {
        "id": "iQcsYstHSxNd",
        "colab": {
          "base_uri": "https://localhost:8080/"
        },
        "outputId": "6f57be7e-0b3f-4cf8-99a3-e987296b099b"
      },
      "execution_count": 4,
      "outputs": [
        {
          "output_type": "stream",
          "name": "stdout",
          "text": [
            "In-order :  [2, 3, 5, 7, 9, 11, 15, 16, 19, 23, 34]\n",
            "Pre-order :  [15, 3, 2, 9, 7, 5, 11, 16, 23, 19, 34]\n",
            "Post-order :  [2, 5, 7, 11, 9, 3, 19, 34, 23, 16, 15]\n"
          ]
        }
      ]
    },
    {
      "cell_type": "markdown",
      "source": [
        "**ตอนที่ 3 : Breadth first (Level order)**\n",
        "\n",
        "ให้นักศึกษาดำเนินการดังนี้\n",
        "1.\tเพิ่มฟังก์ชั่น breadthFirst() ที่ทำการหาลำดับของข้อมูลใน Tree จาก Root ไปตามแต่ละ level จนถึง level ล่างสุด แล้วส่งผลลัพธ์กลับเป็น list\n",
        "2.\tเรียกใช้งานฟังก์ชั่น breadthFirst() แล้วแสดงผล list ที่ได้\n"
      ],
      "metadata": {
        "id": "ZjoxTuKtS4eq"
      }
    },
    {
      "cell_type": "code",
      "source": [],
      "metadata": {
        "id": "sVww35cZTBHU"
      },
      "execution_count": null,
      "outputs": []
    }
  ]
}